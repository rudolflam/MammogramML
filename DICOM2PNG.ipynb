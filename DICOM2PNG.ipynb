{
 "cells": [
  {
   "cell_type": "code",
   "execution_count": 3,
   "metadata": {
    "collapsed": false
   },
   "outputs": [],
   "source": [
    "import dicom\n",
    "import os\n",
    "import scipy.misc\n",
    "def dicom2png(filepath):\n",
    "    filename = os.path.basename(filepath)\n",
    "    scan = dicom.read_file(filepath)\n",
    "    if not os.path.isdir('png_images'):\n",
    "        os.mkdir('png_images')\n",
    "    img = scan.pixel_array\n",
    "    height, width = img.shape\n",
    "    if width>height:\n",
    "        img_nrows = 250 \n",
    "        img_ncols = int(width * img_nrows / height)\n",
    "        img = scipy.misc.imresize(img, (img_nrows, img_ncols))\n",
    "        img = img[:,img_ncols//2-125:img_ncols//2+125]\n",
    "    else:\n",
    "        img_ncols = 250\n",
    "        img_nrows = int(height * img_ncols / width)\n",
    "        img = scipy.misc.imresize(img, (img_nrows, img_ncols))\n",
    "        img = img[img_nrows//2-125:img_nrows//2+125, :]\n",
    "    scipy.misc.imsave('png_images/%s.png'%filename, img)"
   ]
  },
  {
   "cell_type": "code",
   "execution_count": 4,
   "metadata": {
    "collapsed": false
   },
   "outputs": [],
   "source": [
    "for f in os.listdir('data/pilot_images/') :\n",
    "    dicom2png('data/pilot_images/'+f)"
   ]
  },
  {
   "cell_type": "code",
   "execution_count": null,
   "metadata": {
    "collapsed": true
   },
   "outputs": [],
   "source": []
  },
  {
   "cell_type": "code",
   "execution_count": null,
   "metadata": {
    "collapsed": false
   },
   "outputs": [],
   "source": [
    "\n"
   ]
  },
  {
   "cell_type": "code",
   "execution_count": null,
   "metadata": {
    "collapsed": true
   },
   "outputs": [],
   "source": []
  }
 ],
 "metadata": {
  "kernelspec": {
   "display_name": "Python 3",
   "language": "python",
   "name": "python3"
  },
  "language_info": {
   "codemirror_mode": {
    "name": "ipython",
    "version": 3
   },
   "file_extension": ".py",
   "mimetype": "text/x-python",
   "name": "python",
   "nbconvert_exporter": "python",
   "pygments_lexer": "ipython3",
   "version": "3.5.2"
  }
 },
 "nbformat": 4,
 "nbformat_minor": 1
}
